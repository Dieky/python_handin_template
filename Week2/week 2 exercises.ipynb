{
 "cells": [
  {
   "cell_type": "markdown",
   "metadata": {},
   "source": [
    "## Exercise 1 during class"
   ]
  },
  {
   "cell_type": "code",
   "execution_count": 9,
   "metadata": {},
   "outputs": [
    {
     "data": {
      "text/plain": [
       "'good people do'"
      ]
     },
     "execution_count": 9,
     "metadata": {},
     "output_type": "execute_result"
    }
   ],
   "source": [
    "import random\n",
    "adjectives = [\"other\",\"new\",\"good\",\"high\"]\n",
    "nouns = [\"time\", \"year\", \"people\",\"shoes\"]\n",
    "verbs = [\"be\",\"have\",\"do\",\"say\"]\n",
    "\n",
    "def correct_sentence():\n",
    "    x = random.randrange(4)\n",
    "    res = adjectives[x] +\" \" +nouns[x] +\" \"+ verbs[x]\n",
    "    return res\n",
    "\n",
    "correct_sentence()"
   ]
  },
  {
   "cell_type": "code",
   "execution_count": 10,
   "metadata": {},
   "outputs": [
    {
     "data": {
      "text/plain": [
       "[('other', 'time', 'be'),\n",
       " ('other', 'time', 'have'),\n",
       " ('other', 'time', 'do'),\n",
       " ('other', 'time', 'say'),\n",
       " ('other', 'year', 'be'),\n",
       " ('other', 'year', 'have'),\n",
       " ('other', 'year', 'do'),\n",
       " ('other', 'year', 'say'),\n",
       " ('other', 'people', 'be'),\n",
       " ('other', 'people', 'have'),\n",
       " ('other', 'people', 'do'),\n",
       " ('other', 'people', 'say'),\n",
       " ('other', 'shoes', 'be'),\n",
       " ('other', 'shoes', 'have'),\n",
       " ('other', 'shoes', 'do'),\n",
       " ('other', 'shoes', 'say'),\n",
       " ('new', 'time', 'be'),\n",
       " ('new', 'time', 'have'),\n",
       " ('new', 'time', 'do'),\n",
       " ('new', 'time', 'say'),\n",
       " ('new', 'year', 'be'),\n",
       " ('new', 'year', 'have'),\n",
       " ('new', 'year', 'do'),\n",
       " ('new', 'year', 'say'),\n",
       " ('new', 'people', 'be'),\n",
       " ('new', 'people', 'have'),\n",
       " ('new', 'people', 'do'),\n",
       " ('new', 'people', 'say'),\n",
       " ('new', 'shoes', 'be'),\n",
       " ('new', 'shoes', 'have'),\n",
       " ('new', 'shoes', 'do'),\n",
       " ('new', 'shoes', 'say'),\n",
       " ('good', 'time', 'be'),\n",
       " ('good', 'time', 'have'),\n",
       " ('good', 'time', 'do'),\n",
       " ('good', 'time', 'say'),\n",
       " ('good', 'year', 'be'),\n",
       " ('good', 'year', 'have'),\n",
       " ('good', 'year', 'do'),\n",
       " ('good', 'year', 'say'),\n",
       " ('good', 'people', 'be'),\n",
       " ('good', 'people', 'have'),\n",
       " ('good', 'people', 'do'),\n",
       " ('good', 'people', 'say'),\n",
       " ('good', 'shoes', 'be'),\n",
       " ('good', 'shoes', 'have'),\n",
       " ('good', 'shoes', 'do'),\n",
       " ('good', 'shoes', 'say'),\n",
       " ('high', 'time', 'be'),\n",
       " ('high', 'time', 'have'),\n",
       " ('high', 'time', 'do'),\n",
       " ('high', 'time', 'say'),\n",
       " ('high', 'year', 'be'),\n",
       " ('high', 'year', 'have'),\n",
       " ('high', 'year', 'do'),\n",
       " ('high', 'year', 'say'),\n",
       " ('high', 'people', 'be'),\n",
       " ('high', 'people', 'have'),\n",
       " ('high', 'people', 'do'),\n",
       " ('high', 'people', 'say'),\n",
       " ('high', 'shoes', 'be'),\n",
       " ('high', 'shoes', 'have'),\n",
       " ('high', 'shoes', 'do'),\n",
       " ('high', 'shoes', 'say')]"
      ]
     },
     "execution_count": 10,
     "metadata": {},
     "output_type": "execute_result"
    }
   ],
   "source": [
    "def all_sentences():\n",
    "    res_list = [(adj,noun,verb) for adj in adjectives for noun in nouns for verb in verbs]\n",
    "    return res_list\n",
    "\n",
    "all_sentences()"
   ]
  },
  {
   "cell_type": "markdown",
   "metadata": {},
   "source": [
    "## Exercise 2 during class"
   ]
  },
  {
   "cell_type": "code",
   "execution_count": 11,
   "metadata": {},
   "outputs": [
    {
     "name": "stdout",
     "output_type": "stream",
     "text": [
      "Jonna\n",
      "Jack\n",
      "Janni\n",
      "Jesper\n"
     ]
    }
   ],
   "source": [
    "names = [\"Jonna\",\"Jack\",\"Janni\",\"Jesper\"]\n",
    "\n",
    "\n",
    "def recursiveCall(names):\n",
    "    if len(names) == 1:\n",
    "        print(names[0])\n",
    "        return\n",
    "    if len(names) != 1:\n",
    "        print(names.pop(0))\n",
    "        recursiveCall(names)\n",
    "   \n",
    "   \n",
    "recursiveCall(names)"
   ]
  },
  {
   "cell_type": "code",
   "execution_count": 12,
   "metadata": {
    "scrolled": true
   },
   "outputs": [
    {
     "data": {
      "text/plain": [
       "('JonnaJackJanniJesper', 19)"
      ]
     },
     "execution_count": 12,
     "metadata": {},
     "output_type": "execute_result"
    }
   ],
   "source": [
    "names_numbers = [\"Jonna\",4,6,1,\"Jack\",\"Janni\",\"Jesper\",3,5]\n",
    "\n",
    "def concat_or_sum(array):\n",
    "    concat = \"\"\n",
    "    res = 0\n",
    "    for element in array:\n",
    "        if(type(element)== str):\n",
    "            concat += element\n",
    "        if(type(element)== int):\n",
    "            res += element\n",
    "    return concat, res\n",
    "\n",
    "\n",
    "concat_or_sum(names_numbers)"
   ]
  },
  {
   "cell_type": "code",
   "execution_count": null,
   "metadata": {},
   "outputs": [],
   "source": []
  }
 ],
 "metadata": {
  "kernelspec": {
   "display_name": "Python 3",
   "language": "python",
   "name": "python3"
  },
  "language_info": {
   "codemirror_mode": {
    "name": "ipython",
    "version": 3
   },
   "file_extension": ".py",
   "mimetype": "text/x-python",
   "name": "python",
   "nbconvert_exporter": "python",
   "pygments_lexer": "ipython3",
   "version": "3.7.6"
  }
 },
 "nbformat": 4,
 "nbformat_minor": 4
}
