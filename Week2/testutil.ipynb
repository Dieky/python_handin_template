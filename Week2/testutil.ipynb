{
 "cells": [
  {
   "cell_type": "code",
   "execution_count": 12,
   "metadata": {},
   "outputs": [
    {
     "ename": "SyntaxError",
     "evalue": "invalid syntax (<ipython-input-12-71416bfc5e9a>, line 7)",
     "output_type": "error",
     "traceback": [
      "\u001b[0;36m  File \u001b[0;32m\"<ipython-input-12-71416bfc5e9a>\"\u001b[0;36m, line \u001b[0;32m7\u001b[0m\n\u001b[0;31m    python utils.py --folder anything --outfile tmp2.txt\u001b[0m\n\u001b[0m               ^\u001b[0m\n\u001b[0;31mSyntaxError\u001b[0m\u001b[0;31m:\u001b[0m invalid syntax\n"
     ]
    }
   ],
   "source": [
    "import utils\n",
    "#1 function takes a path to a folder and writes all filenames in the folder to a specified output file\n",
    "utils.write_all_filenames_in_folder(\"./\",\"tmp1.txt\")\n",
    "\n",
    "\n",
    "# CLI command\n",
    "# python utils.py --folder anything --outfile tmp2.txt\n"
   ]
  },
  {
   "cell_type": "code",
   "execution_count": 14,
   "metadata": {},
   "outputs": [],
   "source": [
    "#2 takes a path to a folder and write all filenames recursively (files of all sub folders to\n",
    "utils.write_all_filenames_and_sub_dirs_recursive(\"./\",\"tmp3.txt\")\n",
    "\n",
    "# CLI command\n",
    "# python utils.py --subfolder anything --outfile tmp4.txt\n"
   ]
  },
  {
   "cell_type": "code",
   "execution_count": 15,
   "metadata": {},
   "outputs": [
    {
     "data": {
      "text/plain": [
       "[['@FIRST\\n'], ['.ipynb_checkpoints\\n']]"
      ]
     },
     "execution_count": 15,
     "metadata": {},
     "output_type": "execute_result"
    }
   ],
   "source": [
    "#3 takes a list of filenames and print the first line of each\n",
    "utils.first_line_from_files([\"test.txt\",\"utilstest.txt\"])\n",
    "\n",
    "# CLI command\n",
    "# python utils.py --firstline test.txt utilstest.txt"
   ]
  },
  {
   "cell_type": "code",
   "execution_count": 18,
   "metadata": {
    "scrolled": true
   },
   "outputs": [
    {
     "name": "stdout",
     "output_type": "stream",
     "text": [
      "Email found: AOSDHAOIDHADS@\n",
      "\n",
      "Email found: @@@@@@\n",
      "\n",
      "Email found: AOSDHAOIDHADS@\n",
      "\n",
      "Email found: @@@@@@\n",
      "\n",
      "Email found: ASDOJAODJAAOSDHAOIDHADS@\n",
      "\n",
      "Email found: @@@@@@\n",
      "\n",
      "Email found: ASDOJAODJAAOSDHAOIDHADS@\n",
      "\n",
      "Email found: @@@@@@\n",
      "\n"
     ]
    }
   ],
   "source": [
    "#4 takes a list of filenames and print each line that contains an email (just look for @)\n",
    "utils.look_for_email_in_filelist([\"snabela1.txt\",\"snabela2.txt\"])\n",
    "\n",
    "# CLI command\n",
    "#  python utils.py --firstline snabela1.txt snabela2.txt\n"
   ]
  },
  {
   "cell_type": "code",
   "execution_count": 22,
   "metadata": {},
   "outputs": [],
   "source": [
    "#5 takes a list of md files and writes all headlines (lines starting with #) to a file\n",
    "utils.read_headline_fromMD([\"README.md\",\"README_USE.md\"],\"tmp5.txt\")\n",
    "\n",
    "# CLI command\n",
    "# python utils.py --readmd README.md README_USE.md --outfile tmp6.txt\n"
   ]
  }
 ],
 "metadata": {
  "kernelspec": {
   "display_name": "Python 3",
   "language": "python",
   "name": "python3"
  },
  "language_info": {
   "codemirror_mode": {
    "name": "ipython",
    "version": 3
   },
   "file_extension": ".py",
   "mimetype": "text/x-python",
   "name": "python",
   "nbconvert_exporter": "python",
   "pygments_lexer": "ipython3",
   "version": "3.7.6"
  }
 },
 "nbformat": 4,
 "nbformat_minor": 4
}
