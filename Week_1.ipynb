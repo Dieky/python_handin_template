{
 "cells": [
  {
   "cell_type": "markdown",
   "metadata": {},
   "source": [
    "## Opgave 1\n",
    "Create 5 list comprehensions to solve the following 5 problems:"
   ]
  },
  {
   "cell_type": "code",
   "execution_count": 4,
   "metadata": {
    "scrolled": true
   },
   "outputs": [
    {
     "name": "stdout",
     "output_type": "stream",
     "text": [
      "['He3lle', 'Hans', 'Han4ne', 'hugo']\n"
     ]
    }
   ],
   "source": [
    "# A. Iterate a list of names to return a list of the names starting with H\n",
    "names = [\"He3lle\",\"Hans\",\"Han4ne\",\"hugo\",\"Birger\",\"Patrick\"]\n",
    "\n",
    "h_names = [name for name in names if name[0].lower()==\"h\"]\n",
    "print(h_names)"
   ]
  },
  {
   "cell_type": "code",
   "execution_count": null,
   "metadata": {
    "scrolled": true
   },
   "outputs": [],
   "source": [
    "# B. In one line create a list of the numbers 1-100 to the power of 3\n",
    "power_list = [value ** 3 for value in range(1,101)]\n",
    "print(power_list)"
   ]
  },
  {
   "cell_type": "code",
   "execution_count": null,
   "metadata": {
    "scrolled": true
   },
   "outputs": [],
   "source": [
    "# C.Iterate a list of names to create a list of tuples\n",
    "# where the tuples first value is the length of the name and the second is the name\n",
    "tuple_list = [(len(name),name)for name in names]\n",
    "print(tuple_list)"
   ]
  },
  {
   "cell_type": "code",
   "execution_count": null,
   "metadata": {},
   "outputs": [],
   "source": [
    "# D. Iterate over each character in a string and get only those that are nummeric\n",
    "number_string = \"u19abd8f7h13\"\n",
    "numbers = [letter for letter in number_string if letter.isdigit()]\n",
    "print(numbers)"
   ]
  },
  {
   "cell_type": "code",
   "execution_count": 2,
   "metadata": {},
   "outputs": [
    {
     "name": "stdout",
     "output_type": "stream",
     "text": [
      "[(1, 1), (1, 2), (1, 3), (1, 4), (1, 5), (1, 6), (2, 1), (2, 2), (2, 3), (2, 4), (2, 5), (2, 6), (3, 1), (3, 2), (3, 3), (3, 4), (3, 5), (3, 6), (4, 1), (4, 2), (4, 3), (4, 4), (4, 5), (4, 6), (5, 1), (5, 2), (5, 3), (5, 4), (5, 5), (5, 6), (6, 1), (6, 2), (6, 3), (6, 4), (6, 5), (6, 6)]\n"
     ]
    }
   ],
   "source": [
    "# E. Using only a list comprehension wrapped in set() get all possible combination from throwing 2 dice\n",
    "#(hint use 2 for loops in a single list comprehension)\n",
    "#dice_combo = set([(dice1,dice2) for dice1 in range(1,7) for dice2 in range(1,7)])\n",
    "dice_combo = [(dice1,dice2) for dice1 in range(1,7) for dice2 in range(1,7)]\n",
    "print(dice_combo)"
   ]
  },
  {
   "cell_type": "markdown",
   "metadata": {},
   "source": [
    "## Opgave 2\n",
    "2. Create 2 dictionary comprehensions to solve the following:\n",
    " \n",
    "  "
   ]
  },
  {
   "cell_type": "code",
   "execution_count": 5,
   "metadata": {},
   "outputs": [
    {
     "name": "stdout",
     "output_type": "stream",
     "text": [
      "{'He3lle': 6, 'Hans': 4, 'Han4ne': 6, 'hugo': 4, 'Birger': 6, 'Patrick': 7}\n"
     ]
    }
   ],
   "source": [
    "# A. Iterate a list of names and create a dictionary where key is the name and value is the length of the name\n",
    "dict_names = {name:len(name) for name in names}\n",
    "print(dict_names)"
   ]
  },
  {
   "cell_type": "code",
   "execution_count": 1,
   "metadata": {},
   "outputs": [
    {
     "name": "stdout",
     "output_type": "stream",
     "text": [
      "{15: 3.87, 172: 13.11, 223: 14.93, 544: 23.32, 875: 29.58, 136: 11.66}\n"
     ]
    }
   ],
   "source": [
    "# B. Iterate a list of numbers and create a dictionary with {key:value} being {number:squareroot_of_number}\n",
    "import math\n",
    "numbers = [15,172,223,544,875,136]\n",
    "dict_numbers = {number:round(math.sqrt(number),2) for number in numbers}\n",
    "print(dict_numbers)\n"
   ]
  },
  {
   "cell_type": "markdown",
   "metadata": {},
   "source": [
    "## Opgave 3\n",
    "Extra assignment (This one goes beyond what is covered in the course notebooks. So only do it if you want an extra challenge).\n",
    "  - Progammatically using loops create a small program to produce a dictionary with all the 2 dice throw combinations as keys and their likelyhood in percent as values"
   ]
  },
  {
   "cell_type": "code",
   "execution_count": 6,
   "metadata": {},
   "outputs": [
    {
     "name": "stdout",
     "output_type": "stream",
     "text": [
      "{1: 6, 2: 6, 3: 6, 4: 6, 5: 6, 6: 6}\n"
     ]
    }
   ],
   "source": [
    "#dice_combo_chance = {value:value+1 for value in range(1,7)}\n",
    "#print(dice_combo[0][])\n",
    "#combo_sum = {sum(values): for values in dice_combo }\n",
    "combo_sum = {x:y for x,y in dice_combo }\n",
    "print(combo_sum)\n",
    "#print(dice_combo_chance)"
   ]
  }
 ],
 "metadata": {
  "kernelspec": {
   "display_name": "Python 3",
   "language": "python",
   "name": "python3"
  },
  "language_info": {
   "codemirror_mode": {
    "name": "ipython",
    "version": 3
   },
   "file_extension": ".py",
   "mimetype": "text/x-python",
   "name": "python",
   "nbconvert_exporter": "python",
   "pygments_lexer": "ipython3",
   "version": "3.7.6"
  }
 },
 "nbformat": 4,
 "nbformat_minor": 4
}
