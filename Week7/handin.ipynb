{
 "cells": [
  {
   "cell_type": "markdown",
   "metadata": {},
   "source": [
    "# Python_Week_7_Exercise\n",
    "\n",
    "Data from https://www.dr.dk/\n",
    "\n"
   ]
  },
  {
   "cell_type": "code",
   "execution_count": 10,
   "metadata": {},
   "outputs": [],
   "source": [
    "# making requests in this block\n",
    "import warnings\n",
    "warnings.filterwarnings('ignore')\n",
    "\n",
    "import bs4\n",
    "import requests\n",
    "import re\n",
    "\n",
    "res = requests.get(\"https://www.dr.dk\")\n",
    "res.raise_for_status()\n",
    "soup = bs4.BeautifulSoup(res.text, 'html.parser')\n",
    "\n",
    "\n",
    "\n",
    "res2 = requests.get(\"https://www.dr.dk/nyheder/indland/status-paa-coronavirus-lige-nu\")\n",
    "res2.raise_for_status()\n",
    "soup2 = bs4.BeautifulSoup(res2.text,\"html.parser\")"
   ]
  },
  {
   "cell_type": "markdown",
   "metadata": {},
   "source": [
    "1) Use webscrabing to find out how many headlines contain the word 'corona'."
   ]
  },
  {
   "cell_type": "code",
   "execution_count": 13,
   "metadata": {},
   "outputs": [
    {
     "name": "stdout",
     "output_type": "stream",
     "text": [
      "['corona', 'corona', 'corona', 'corona', 'corona', 'corona', 'corona']\n",
      "['corona']\n",
      "[]\n"
     ]
    }
   ],
   "source": [
    "match1 = soup.select(\".dre-title-text\")\n",
    "match2 = soup.select(\".hydra-front-page-top-zone__link\")\n",
    "match3 = soup.select(\".dre-title-text__prefix\")\n",
    "\n",
    "\n",
    "corona = re.compile(r\"corona\")\n",
    "\n",
    "r1 = corona.findall(str(match1))\n",
    "r2 = corona.findall(str(match2))\n",
    "r3 = corona.findall(str(match3))\n",
    "\n",
    "\n",
    "print(r1)\n",
    "print(r2)\n",
    "print(r3)\n",
    "\n",
    "# Der er flere steder hvor den ikke finder alle typer for headlines med de første 3 matches,\n",
    "# fandt lidt ekstra med dem her men det var lidt at gå i detalje med opgaven\n",
    "\n",
    "#match4 = soup.select(\".dre-title-text__prefixed\")\n",
    "#match5 = soup.select(\".dre-teaser-title__text\")\n",
    "\n",
    "#r4 = corona.findall(str(match4))\n",
    "#r5 = corona.findall(str(match5))\n",
    "\n",
    "#print(r4)\n",
    "#print(r5)"
   ]
  },
  {
   "cell_type": "markdown",
   "metadata": {},
   "source": [
    "2) Use regex to make a list of all words that occur just before and just after coronavirus in the article at https://www.dr.dk/nyheder/indland/status-paa-coronavirus-lige-nu. \n",
    "As in \"... xxx coronavirus yyy...\" find the words xxx and yyy. "
   ]
  },
  {
   "cell_type": "code",
   "execution_count": 67,
   "metadata": {},
   "outputs": [
    {
     "name": "stdout",
     "output_type": "stream",
     "text": [
      "{('på', 'lige'), ('på', 'i'), ('mod', 'og'), ('om', 'i')}\n"
     ]
    }
   ],
   "source": [
    "article = soup2.select('article[class=\"dre-article cXenseParse\"]> div.dre-structured-article')\n",
    "coronareg = re.compile(r'(\\w+) coronavirus (\\w+)')\n",
    "\n",
    "results = coronareg.findall(str(article))\n",
    "\n",
    "print(set(results))"
   ]
  },
  {
   "cell_type": "markdown",
   "metadata": {},
   "source": [
    "3) How many hrefs link to a sub page on dr.dk/nyheder/..., dr.dk/sporten/..., dr.dk/mad/... and dr.dk/musik/...\n",
    "Make a pie chart to show the amount of sports news, food news, music news and regular news."
   ]
  },
  {
   "cell_type": "code",
   "execution_count": 11,
   "metadata": {
    "scrolled": false
   },
   "outputs": [
    {
     "data": {
      "image/png": "[encoded data removed]",
      "text/plain": [
       "<Figure size 432x288 with 1 Axes>"
      ]
     },
     "metadata": {},
     "output_type": "display_data"
    },
    {
     "name": "stdout",
     "output_type": "stream",
     "text": [
      "Sporten:  35\n",
      "Nyheder:  162\n",
      "Mad:  1\n",
      "Musik:  19\n"
     ]
    }
   ],
   "source": [
    "from matplotlib import pyplot as plt\n",
    "\n",
    "sporten = re.compile(r'www.dr.dk/sporten/')\n",
    "nyheder = re.compile(r'www.dr.dk/nyheder/')\n",
    "mad = re.compile(r'www.dr.dk/mad/')\n",
    "musik = re.compile(r'www.dr.dk/musik/')\n",
    "\n",
    "s_len = len(sporten.findall(res.text))\n",
    "n_len = len(nyheder.findall(res.text))\n",
    "mad_len = len(mad.findall(res.text))\n",
    "musik_len = len(musik.findall(res.text))\n",
    "\n",
    "#fig = plt.figure(figsize=(5,5))\n",
    "fig = plt.figure()\n",
    "\n",
    "labels = [\"Sporten\",\"Nyheder\",\"Mad\",\"Musik\"]\n",
    "values = [s_len,n_len,mad_len,musik_len]\n",
    "\n",
    "plt.pie(values,labels=labels,autopct='%.2f %%')\n",
    "plt.show()\n",
    "print(\"Sporten: \", s_len)\n",
    "print(\"Nyheder: \", n_len)\n",
    "print(\"Mad: \", mad_len)\n",
    "print(\"Musik: \", musik_len)"
   ]
  },
  {
   "cell_type": "markdown",
   "metadata": {},
   "source": [
    "\n",
    "\n",
    "\n",
    "4) Use Selenium to click into the first news article under \"seneste nyt\" and print the first parapgraph of the article.\n",
    "\n",
    "![alt text](https://i.imgur.com/H0iye0S.png)"
   ]
  },
  {
   "cell_type": "code",
   "execution_count": 12,
   "metadata": {},
   "outputs": [],
   "source": [
    "# Not completed. Having trouble using selenium"
   ]
  }
 ],
 "metadata": {
  "kernelspec": {
   "display_name": "Python 3",
   "language": "python",
   "name": "python3"
  },
  "language_info": {
   "codemirror_mode": {
    "name": "ipython",
    "version": 3
   },
   "file_extension": ".py",
   "mimetype": "text/x-python",
   "name": "python",
   "nbconvert_exporter": "python",
   "pygments_lexer": "ipython3",
   "version": "3.7.6"
  }
 },
 "nbformat": 4,
 "nbformat_minor": 4
}
