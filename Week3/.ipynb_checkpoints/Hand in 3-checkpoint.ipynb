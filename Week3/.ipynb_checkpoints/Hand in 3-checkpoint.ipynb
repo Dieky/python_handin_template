{
 "cells": [
  {
   "cell_type": "markdown",
   "metadata": {},
   "source": [
    "# Exercise for the 3rd course week\n",
    "\n",
    "## Ex 1 Classes\n",
    "1. Create 3 classes: Student, DataSheet and Course\n",
    "2. A student has a data_sheet and a data_sheet has multiple courses in particular order\n",
    "3. Each course has name, classroom, teacher, ETCS and optional grade if course is taken.\n",
    "4. In Student create __init__() so that a Student can be initiated with name, gender, data_sheet and image_url\n",
    "5. In DataSheet create a method to get_grades_as_list()\n",
    "6. In student create a method: get_avg_grade()\n"
   ]
  },
  {
   "cell_type": "code",
   "execution_count": 1,
   "metadata": {},
   "outputs": [],
   "source": [
    "class Course():\n",
    "    # Each course has name, classroom, teacher, ETCS and optional grade if course is taken.\n",
    "\n",
    "    def __repr__(self):\n",
    "        return 'Course(%r, %r,%r,%r,%r)' % (self.name, self.classroom, self.teacher, self.ETCS, self.grade)\n",
    "\n",
    "    def __init__(self, name, classroom, teacher, ETCS, grade=-1):\n",
    "        self.name = name\n",
    "        self.classroom = classroom\n",
    "        self.teacher = teacher\n",
    "        self.ETCS = ETCS\n",
    "        self.grade = grade\n"
   ]
  },
  {
   "cell_type": "code",
   "execution_count": 2,
   "metadata": {},
   "outputs": [],
   "source": [
    "class DataSheet():\n",
    "        # A student has a data_sheet and a data_sheet has multiple courses in particular order\n",
    "\n",
    "    def __repr__(self):\n",
    "        return 'DataSheet(%r)' % (self.courses)\n",
    "\n",
    "    def __init__(self, courses=[]):\n",
    "        self.courses = courses\n",
    "\n",
    "# In DataSheet create a method to get_grades_as_list()\n",
    "    def get_grades_list(self):\n",
    "        return self.courses\n",
    "\n"
   ]
  },
  {
   "cell_type": "code",
   "execution_count": 3,
   "metadata": {},
   "outputs": [],
   "source": [
    "class Student():\n",
    "    \n",
    "    def __init__(self, name, gender, data_sheet, image_url):\n",
    "        # In Student create init() so that a Student can be initiated with name, gender, data_sheet and image_url\n",
    "        \"\"\"Initialize title, the author, and the chapters.\"\"\"\n",
    "        self.name = name\n",
    "        self.gender = gender\n",
    "        self.data_sheet = data_sheet\n",
    "        self.image_url = image_url\n",
    "\n",
    "    def __repr__(self):\n",
    "        return 'Student(%r, %r,%r,%r)' % (self.name, self.gender, self.data_sheet, self.image_url)\n",
    "\n",
    "# In student create a method: get_avg_grade()\n",
    "    def get_avg_grade(self):\n",
    "        total = 0\n",
    "        divident = 0\n",
    "        for x in self.data_sheet:\n",
    "            if(x.grade != -1):\n",
    "                total += x.grade\n",
    "                divident += 1\n",
    "        result = total / divident\n",
    "        return result\n",
    "\n",
    "    #Opgave 8\n",
    "    def get_total_study_progression(self):\n",
    "        ETCS_total = 0\n",
    "        for x in self.data_sheet:\n",
    "            ETCS_total += int(x.ETCS)\n",
    "        progress_status = round(ETCS_total / 150 * 100,2)\n",
    "        return progress_status\n"
   ]
  },
  {
   "cell_type": "markdown",
   "metadata": {},
   "source": [
    "7. Create a function that can generate n number of students with random: name, gender, courses (from a fixed list of course names), grades, img_url\n",
    "   1. Let the function write the result to a csv file with format stud_name, course_name, teacher, ects, classroom, grade, img_url\n"
   ]
  },
  {
   "cell_type": "code",
   "execution_count": 19,
   "metadata": {
    "scrolled": false
   },
   "outputs": [],
   "source": [
    "import random\n",
    "def create_n_complete_students(number):\n",
    "    list_of_students = []\n",
    "    list_of_names = [\"Hans\", \"Peter\", \"Helga\", \"Yrsa\", \"Lotte\", \"Freja\", \"Birger\",\n",
    "                     \"Sandra\", \"Bubber\", \"Morten\", \"Kenny\", \"Casper\", \"Frank\", \"Buckingham\"]\n",
    "    possible_genders = [\"Mand\", \"Kvinde\"]\n",
    "    grade_list = [-3, 0, 2, 4, 7, 10, 12]\n",
    "    course1 = Course(\"Math\", 1, \"Steen Brandt\", 20)\n",
    "    course2 = Course(\"Dansk\", 2, \"Mogens Blisdorf\", 20)\n",
    "    course3 = Course(\"English\", 3, \"Trine Haremose\", 15)\n",
    "    course4 = Course(\"Biology\", 4, \"Preben Dadelplukker\", 10)\n",
    "    course5 = Course(\"Fysik\", 5, \"Torben Boom\", 7)\n",
    "    list_of_courses = [course1, course2, course3, course4, course5]\n",
    "    for x in range(number):\n",
    "        final_course_list = []\n",
    "        for y in range(len(list_of_courses)):\n",
    "            result = random.randint(0, 1)\n",
    "            if(result == 1):\n",
    "                final_grade = grade_list[random.randint(0, len(grade_list)-1)]\n",
    "                addCourse = Course(list_of_courses[y].name, list_of_courses[y].classroom,\n",
    "                                   list_of_courses[y].teacher, list_of_courses[y].ETCS, final_grade)\n",
    "                final_course_list.append(addCourse)\n",
    "        # Added +\"_\"+str(x) to see a different ID on names\n",
    "        name = list_of_names[random.randrange(len(list_of_names))]+\"_\"+str(x)\n",
    "        student = Student(name, possible_genders[random.randint(\n",
    "            0, 1)], final_course_list, \"www.website.com/profile/\"+name)\n",
    "        list_of_students.append(student)\n",
    "    return list_of_students\n",
    "\n",
    "\n",
    "def write_complete_csv(student_list, outfile):\n",
    "    \"\"\"\n",
    "    Writes a csv file to <outfile> from the given <student_list>. MUST be a complete list which is gained from calling create_n_complete_students(number)\n",
    "    \"\"\"\n",
    "    with open(outfile, \"w\") as file_object:\n",
    "        for student in student_list:\n",
    "            for course in student.data_sheet:\n",
    "                file_object.write(\n",
    "                    \"{},{},{},{},{},{},{},{}\\n\".format(student.name, student.gender,\n",
    "                                                       student.image_url, course.name, course.teacher, course.classroom, course.ETCS, int(course.grade)))\n",
    "\n",
    "\n",
    "def write_complete_student():\n",
    "    \"\"\"\n",
    "    Writes all of the attributes of a student. Students may appear more than once due to multiple courses\n",
    "    \"\"\"\n",
    "    list_to_write = create_n_complete_students(10)\n",
    "    write_complete_csv(list_to_write, \"DELMECOMPLETE.csv\")\n",
    "    \n",
    "write_complete_student()"
   ]
  },
  {
   "cell_type": "markdown",
   "metadata": {},
   "source": [
    "7. Read student data into a list of Students from a csv file: \n",
    "   3. create a bar chart with student_name on x and avg_grade on y-axis\n"
   ]
  },
  {
   "cell_type": "code",
   "execution_count": 20,
   "metadata": {
    "scrolled": true
   },
   "outputs": [],
   "source": [
    "import pprint\n",
    "import matplotlib.pyplot as plt\n",
    "import csv\n",
    "\n",
    "def students_from_csv_file(filename):\n",
    "    student_dict = {}\n",
    "    with open(filename, \"r\") as file_object:\n",
    "        for line in file_object.readlines():\n",
    "            course_list = []\n",
    "            (student_name, gender, image_url, course_name,\n",
    "             teacher, classroom, ETCS, grade) = line.split(\",\")\n",
    "            course = Course(course_name, classroom, teacher, ETCS, int(grade))\n",
    "            course_list.append(course)\n",
    "            if student_name not in student_dict.keys():\n",
    "                student_dict[student_name] = Student(\n",
    "                    student_name, gender, course_list, image_url,)\n",
    "            else:\n",
    "                current_student = student_dict[student_name]\n",
    "                new_course_list = []\n",
    "                new_course_list.append(course)\n",
    "                for x in range(0, len(current_student.data_sheet)):\n",
    "                    grade = int(current_student.data_sheet[x].grade)\n",
    "                    new_course = Course(current_student.data_sheet[x].name, current_student.data_sheet[x].teacher,\n",
    "                                        current_student.data_sheet[x].classroom, current_student.data_sheet[x].ETCS, grade)\n",
    "                    new_course_list.append(new_course)\n",
    "                student = Student(current_student.name, current_student.gender,\n",
    "                                  new_course_list, current_student.image_url)\n",
    "                student_dict[student_name] = student\n",
    "    final_list = []\n",
    "    for student in student_dict.values():\n",
    "        final_list.append(student)\n",
    "    return final_list\n",
    "\n",
    "student_list = students_from_csv_file(\"DELMECOMPLETE.csv\")\n"
   ]
  },
  {
   "cell_type": "markdown",
   "metadata": {},
   "source": [
    "7a loop through the list and print each student with name, img_url and avg_grade."
   ]
  },
  {
   "cell_type": "code",
   "execution_count": 6,
   "metadata": {},
   "outputs": [
    {
     "name": "stdout",
     "output_type": "stream",
     "text": [
      "Lotte_0\n",
      "www.website.com/profile/Lotte_0\n",
      "4.0 \n",
      "\n",
      "Freja_1\n",
      "www.website.com/profile/Freja_1\n",
      "10.0 \n",
      "\n",
      "Casper_2\n",
      "www.website.com/profile/Casper_2\n",
      "3.0 \n",
      "\n"
     ]
    }
   ],
   "source": [
    "def print_student_average(student_list):\n",
    "    for student in student_list:\n",
    "        print(student.name)\n",
    "        print(student.image_url)\n",
    "        print(student.get_avg_grade(), \"\\n\")\n",
    "print_student_average(student_list)"
   ]
  },
  {
   "cell_type": "markdown",
   "metadata": {},
   "source": [
    "7b sort the list by avg_grade"
   ]
  },
  {
   "cell_type": "code",
   "execution_count": 7,
   "metadata": {},
   "outputs": [
    {
     "name": "stdout",
     "output_type": "stream",
     "text": [
      "Navn på student: Freja_1 - Gennemsnit: 10.0\n",
      "Navn på student: Lotte_0 - Gennemsnit: 4.0\n",
      "Navn på student: Casper_2 - Gennemsnit: 3.0\n"
     ]
    }
   ],
   "source": [
    "def sort_students(student_list):\n",
    "    for f in sorted(student_list, key=Student.get_avg_grade, reverse=True):\n",
    "        print(\"Navn på student: {} - Gennemsnit: {}\".format(f.name,round(f.get_avg_grade(),2)))\n",
    "sort_students(student_list)"
   ]
  },
  {
   "cell_type": "markdown",
   "metadata": {},
   "source": [
    "7c create a bar chart with student_name on x and avg_grade on y-axis"
   ]
  },
  {
   "cell_type": "code",
   "execution_count": 8,
   "metadata": {},
   "outputs": [
    {
     "data": {
      "image/png": "[encoded data removed]",
      "text/plain": [
       "<Figure size 432x288 with 1 Axes>"
      ]
     },
     "metadata": {
      "needs_background": "light"
     },
     "output_type": "display_data"
    }
   ],
   "source": [
    "def print_barchart(student_list):\n",
    "    plot_list_student_name = []\n",
    "    plot_list_student_avg_grade = []\n",
    "    for student in student_list:\n",
    "        plot_list_student_name.append(student.name)\n",
    "        plot_list_student_avg_grade.append(student.get_avg_grade())\n",
    "        \n",
    "    #Kan Thomas forklare lidt her? Det med mellemrum imellem x værdier var min primære grund til at bruge linjen under\n",
    "    #plt.figure(figsize=(10, 3))\n",
    "    \n",
    "    \n",
    "    plt.bar(plot_list_student_name, plot_list_student_avg_grade, width=0.5, align='center')\n",
    "    # bar(x-vals, y-vals, bar width, align bar relative to x-val on x-axis) )\n",
    "    plt.xlabel(\"Student\", fontsize=15)\n",
    "    plt.ylabel(\"Average grade\", fontsize=15)  \n",
    "print_barchart(student_list)"
   ]
  },
  {
   "cell_type": "markdown",
   "metadata": {},
   "source": [
    "8. Make a method on Student class that can show progression of the study in % (add up ECTS from all passed courses divided by total of 150 total points (equivalent to 5 semesters))"
   ]
  },
  {
   "cell_type": "code",
   "execution_count": 9,
   "metadata": {},
   "outputs": [
    {
     "name": "stdout",
     "output_type": "stream",
     "text": [
      "The student has completed 4.67% of their courses\n"
     ]
    }
   ],
   "source": [
    "student = student_list[1]\n",
    "result = student.get_total_study_progression()\n",
    "print(\"The student has completed {}% of their courses\".format(result))\n"
   ]
  },
  {
   "cell_type": "markdown",
   "metadata": {},
   "source": [
    "9. Show a bar chart of distribution of study progression on x-axis and number of students in each category on y-axis. (e.g. make 10 categories from 0-100%)\n",
    "\n",
    "Extra: Make the Datasheet class iterable so that next(data_sheet) will return the next course in the list"
   ]
  },
  {
   "cell_type": "code",
   "execution_count": 42,
   "metadata": {
    "scrolled": true
   },
   "outputs": [
    {
     "data": {
      "image/png": "[encoded data removed]",
      "text/plain": [
       "<Figure size 432x288 with 1 Axes>"
      ]
     },
     "metadata": {
      "needs_background": "light"
     },
     "output_type": "display_data"
    }
   ],
   "source": [
    "def print_grouped_students_progres(student_list):\n",
    "    study_progress = {key:0 for (key,value) in enumerate(range(0,101,10))}\n",
    "    study_progress_intervals = [0,10,20,30,40,50,60,70,80,90,100]\n",
    "    for student in student_list:\n",
    "        prog = int(student.get_total_study_progression()/10)\n",
    "        study_progress[prog]+= 1\n",
    "    result = []\n",
    "    for value in study_progress.values():\n",
    "        result.append(value)\n",
    "    plt.bar(study_progress_intervals, result, width=2, align='center') # bar(x-vals, y-vals, bar width, align bar relative to x-val on x-axis) )\n",
    "    plt.xlabel(\"Study progress\", fontsize=20)\n",
    "    plt.ylabel(\"Number of students\", fontsize=20)\n",
    "    #plt.axis(xlim=(0, 100), ylim=(0, 15))\n",
    "    #plt.tick_params(length=10)\n",
    "    \n",
    "print_grouped_students_progres(student_list)"
   ]
  },
  {
   "cell_type": "markdown",
   "metadata": {},
   "source": [
    "\n",
    "## Ex 2 Exceptions\n",
    "1. Create a function that can take a list of students and return the 3 students closest to completing their study.\n",
    "2. If list is shorter than 3 raise your own custom exception (NotEnoughStudentsException)\n",
    "3. Create another function that can create a csv file with 3 students closest to completion\n",
    "   1. If an exception is raised write an appropriate message to the file\n"
   ]
  },
  {
   "cell_type": "code",
   "execution_count": 41,
   "metadata": {},
   "outputs": [
    {
     "name": "stdout",
     "output_type": "stream",
     "text": [
      "An error occured, please check the file you entered for more info\n"
     ]
    }
   ],
   "source": [
    "# opg 1\n",
    "class NotEnoughStudentsException(Exception):\n",
    "    pass\n",
    "\n",
    "def top_three(student_list):\n",
    "    if len(student_list) < 3:\n",
    "        raise NotEnoughStudentsException(\"You need atleast 3 students in the list. Please try again with a larger list\")\n",
    "    result = []\n",
    "    for id,student in enumerate(sorted(student_list, key=Student.get_avg_grade, reverse=True)):\n",
    "        if id < 3:\n",
    "            result.append(student)\n",
    "    return result\n",
    "\n",
    "def top_three_csv(student_list,filename):\n",
    "    try:\n",
    "        list_to_write = top_three(student_list2)\n",
    "        write_complete_csv(list_to_write,filename)\n",
    "    except NotEnoughStudentsException as e:\n",
    "        with open(filename,\"w\")as f_obj:\n",
    "            f_obj.write(\"Error: {}\".format(e))\n",
    "        print(\"An error occured, please check the file you entered for more info\")\n",
    "\n",
    "        \n",
    "student_list2 = students_from_csv_file(\"DELMECOMPLETE2.csv\")\n",
    "# opg 2        \n",
    "try:\n",
    "    result = top_three(student_list)\n",
    "    #result2 = top_three(student_list2)\n",
    "except NotEnoughStudentsException as e:\n",
    "    print(\"Error: \", e)\n",
    "\n",
    "# opg 3   \n",
    "# should print \"An error occured, please check the file you entered for more info\"\n",
    "test = top_three_csv(student_list2,\"testing.csv\")"
   ]
  },
  {
   "cell_type": "markdown",
   "metadata": {},
   "source": [
    "## Ex 3 Plotting\n",
    "1. Create a function that can take a list of students and show a pie chart of how students are distributed in ECTS percentage categories (10%, 20%, ...)\n",
    "2. create a function that can take a list of students and show how many students have taken each course (bar chart)\n",
    "   1. create a method on student that can return a list of courses\n",
    "3. make the figure show males and females in different colors for each course (display 2 datasets in same figure)\n"
   ]
  },
  {
   "cell_type": "code",
   "execution_count": 80,
   "metadata": {
    "scrolled": false
   },
   "outputs": [
    {
     "data": {
      "image/png": "[encoded data removed]",
      "text/plain": [
       "<Figure size 432x288 with 1 Axes>"
      ]
     },
     "metadata": {},
     "output_type": "display_data"
    }
   ],
   "source": [
    "def pie_chart_ects(student_list):\n",
    "    study_progress = {key:0 for (key,value) in enumerate(range(0,101,10))}\n",
    "    study_progress_intervals = [0,10,20,30,40,50,60,70,80,90,100]\n",
    "    for student in student_list:\n",
    "        prog = int(student.get_total_study_progression()/10)\n",
    "        study_progress[prog]+= 1\n",
    "    result = []\n",
    "    for value in study_progress.values():\n",
    "        result.append(value)\n",
    "    return result,study_progress_intervals\n",
    "\n",
    "explode = (0.1, 0.2, 0, 0)\n",
    "fig1,ax1 = plt.subplots()\n",
    "keys, values = pie_chart_ects(student_list)\n",
    "ax1.pie(values,labels=keys)\n",
    "#ax1.pie(values,labels=keys,explode=explode)\n",
    "ax1.legend(keys,loc=\"upper right\")\n",
    "plt.show()\n",
    "\n",
    "# kønt er det ikke, men har simpelthen ikke kunne finde nok i dit materiale der beskriver hvordan man gør det kønt at kigge på.\n",
    "# Forvildede mig et par gange ind på matplotlib.org --> Det skal man lade være med, dårlig dokumentation der flooder med alt for meget info\n",
    "# og på ingen måde hjælper en med at løse problemet.\n",
    "# https://www.reddit.com/r/Python/comments/9fb9i3/am_i_the_only_one_who_hates_matplotlib/"
   ]
  },
  {
   "cell_type": "markdown",
   "metadata": {},
   "source": [
    "Dit eneste eksempel med pie chart:\n",
    "\n",
    "Her virker explode, men når jeg prøver at indkommentere det i opgaven ovenover så virker det ikke, hvad er explode? Det er på ingen måde forklaret i materialet.\n",
    "\n",
    "Samt autopct?? Det går for stærkt med nogle af tingene hvis man skal lære det. Jeg ved at numpy ugen bliver rigtig hård med flere af disse typer eksempler hvor der simpelthen ikke er en forklaring i materialet\n",
    "\n"
   ]
  },
  {
   "cell_type": "code",
   "execution_count": 75,
   "metadata": {},
   "outputs": [
    {
     "data": {
      "image/png": "[encoded data removed]",
      "text/plain": [
       "<Figure size 432x288 with 1 Axes>"
      ]
     },
     "metadata": {},
     "output_type": "display_data"
    }
   ],
   "source": [
    "# import matplotlib.pyplot as plt\n",
    "\n",
    "# Pie chart\n",
    "data = {'Eggs': 15, 'Sandwiches': 70, 'Cup nudles': 45, 'Pizza slices': 10}\n",
    "explode = (0.1, 0.2, 0, 0) # offset second slice\n",
    "fig1, ax1 = plt.subplots() # first returned is the containing figure (fig1), then the subplot Axe object(s) (ax1)\n",
    "ax1.pie(data.values(), labels=data.keys(), explode=explode, autopct=lambda p:'{:.2f}%({:.0f})'.format(p,(p/100)*sum(data.values())), \n",
    "        #autopct=make_autopct(data.values()), \n",
    "        #autopct='%.1f', \n",
    "        # autopct= a format string like '%1.2f%%' for showing pct sign and 2 decimals\n",
    "        shadow=True, startangle=90)\n",
    "ax1.set_aspect('equal')\n",
    "ax1.legend(data.keys(), loc='upper right') # use instead of labels in ax1.pie(...)\n",
    "#ax1.axis('equal')  \n",
    "#plt.tight_layout()\n",
    "plt.show()"
   ]
  }
 ],
 "metadata": {
  "kernelspec": {
   "display_name": "Python 3",
   "language": "python",
   "name": "python3"
  },
  "language_info": {
   "codemirror_mode": {
    "name": "ipython",
    "version": 3
   },
   "file_extension": ".py",
   "mimetype": "text/x-python",
   "name": "python",
   "nbconvert_exporter": "python",
   "pygments_lexer": "ipython3",
   "version": "3.7.6"
  }
 },
 "nbformat": 4,
 "nbformat_minor": 4
}
