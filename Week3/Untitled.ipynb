{
 "cells": [
  {
   "cell_type": "code",
   "execution_count": 2,
   "metadata": {},
   "outputs": [
    {
     "name": "stdout",
     "output_type": "stream",
     "text": [
      "1\n",
      "28\n",
      "17\n"
     ]
    }
   ],
   "source": [
    "import TextContainer as tc\n",
    "tc1 = tc.TextContainer([\"Hejada545454sds,adads . ohøj\"])\n",
    "\n",
    "tc1.count_words()\n",
    "tc1.count_chars()\n",
    "tc1.count_ascii()\n",
    "#tc.TextContainer.count_words(\"hej med dig\")"
   ]
  }
 ],
 "metadata": {
  "kernelspec": {
   "display_name": "Python 3",
   "language": "python",
   "name": "python3"
  },
  "language_info": {
   "codemirror_mode": {
    "name": "ipython",
    "version": 3
   },
   "file_extension": ".py",
   "mimetype": "text/x-python",
   "name": "python",
   "nbconvert_exporter": "python",
   "pygments_lexer": "ipython3",
   "version": "3.7.6"
  }
 },
 "nbformat": 4,
 "nbformat_minor": 4
}
