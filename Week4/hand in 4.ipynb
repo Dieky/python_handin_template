{
 "cells": [
  {
   "cell_type": "markdown",
   "metadata": {},
   "source": [
    "# Week 4 Exercise with Numpy\n",
    "\n",
    "Use only numpy in these exercises\n",
    "#### Exercise 1\n",
    "1. Open the file './befkbhalderstatkode.csv'\n",
    "2. Turn the csv file into a numpy ndarray with `np.genfromtxt(filename, delimiter=',', dtype=np.uint, skip_header=1)`"
   ]
  },
  {
   "cell_type": "code",
   "execution_count": 1,
   "metadata": {},
   "outputs": [],
   "source": [
    "import numpy as np\n",
    "import matplotlib.pyplot as plt\n",
    "\n",
    "country_codes = {0: 'Uoplyst (1)', 5001: 'Uoplyst (2)', 5100: 'Danmark', 5101: 'Grønland',\n",
    "                 5102: 'Udlandet uoplyst', 5103: 'Statsløs', 5104: 'Finland',\n",
    "                 5105: 'Island, ligeret dansk', 5106: 'Island', 5107: 'Liechtenstein',\n",
    "                 5108: 'Luxembourg', 5109: 'Monaco', 5110: 'Norge', 5114: 'Europa uoplyst',\n",
    "                 5115: 'Kongelig', 5120: 'Sverige', 5122: 'Albanien', 5124: 'Andorra',\n",
    "                 5126: 'Belgien', 5128: 'Bulgarien', 5129: 'Tjekkoslovakiet',\n",
    "                 5130: 'Frankrig', 5134: 'Grækenland', 5140: 'Nederlandene',\n",
    "                 5142: 'Irland', 5150: 'Italien', 5151: 'Serbien og Montenegro',\n",
    "                 5152: 'Jugoslavien', 5153: 'Malta', 5154: 'Polen', 5156: 'Portugal',\n",
    "                 5158: 'Rumænien', 5159: 'San Marino', 5160: 'Schweiz',\n",
    "                 5162: 'Sovjetunionen', 5164: 'Spanien', 5170: 'Storbritannien',\n",
    "                 5172: 'Tyrkiet', 5174: 'Ungarn', 5176: 'Vatikanstaten', 5180: 'Tyskland',\n",
    "                 5182: 'Østrig', 5199: 'Europa uoplyst', 5202: 'Algeriet', 5204: 'Angola',\n",
    "                 5207: 'Botswana', 5213: 'Burundi', 5214: 'Etiopien', 5215: 'Comorerne',\n",
    "                 5216: 'Eritrea', 5222: 'Gambia', 5228: 'Ghana', 5230: 'Ækvatorialguinea',\n",
    "                 5231: 'Guinea-Bissau', 5232: 'Guinea', 5233: 'Kap Verde', 5234: 'Kenya',\n",
    "                 5235: 'Lesotho', 5236: 'Liberia', 5238: 'Libyen', 5240: 'Mozambique',\n",
    "                 5242: 'Madagaskar', 5243: 'Mali', 5244: 'Marokko', 5245: 'Mauritius',\n",
    "                 5246: 'Nigeria', 5247: 'Namibia', 5248: 'Marshalløerne',\n",
    "                 5255: 'Sierra Leone', 5258: 'Sudan', 5259: 'Swaziland', 5260: 'Sydsudan',\n",
    "                 5262: 'Sydafrika', 5266: 'Tanzania', 5268: 'Tunesien', 5269: 'Uganda',\n",
    "                 5272: 'Egypten', 5273: 'Tuvalu', 5274: 'Kiribati', 5275: 'Vanuatu',\n",
    "                 5276: 'Centralafrikanske Republik', 5277: 'Cameroun',\n",
    "                 5278: 'Congo, Demokratiske Republik', 5279: 'Congo, Republikken',\n",
    "                 5281: 'Benin', 5282: 'Elfenbenskysten', 5283: 'Gabon', 5284: 'Mauretanien',\n",
    "                 5285: 'Niger', 5287: 'Rwanda', 5288: 'Senegal', 5289: 'Somalia',\n",
    "                 5292: 'Tchad', 5293: 'Togo', 5294: 'Burkina Faso', 5295: 'Zimbabwe',\n",
    "                 5296: 'Zambia', 5297: 'Malawi', 5298: 'Seychellerne',\n",
    "                 5299: 'Afrika uoplyst', 5302: 'Argentina', 5303: 'Bahamas',\n",
    "                 5304: 'Bolivia', 5305: 'Barbados', 5306: 'Brasilien', 5308: 'Guyana',\n",
    "                 5309: 'Antigua og Barbuda', 5310: 'Nauru',\n",
    "                 5311: 'Skt. Vincent og Grenadinerne', 5314: 'Canada', 5316: 'Chile',\n",
    "                 5318: 'Colombia', 5319: 'Syd- og Mellemamerika uoplyst',\n",
    "                 5322: 'Costa Rica', 5324: 'Cuba', 5326: 'Dominikanske Republik',\n",
    "                 5328: 'Ecuador', 5338: 'Guatemala', 5339: 'Grenada', 5342: 'Haiti',\n",
    "                 5344: 'Surinam', 5345: 'Dominica', 5347: 'Skt. Lucia', 5348: 'Honduras',\n",
    "                 5352: 'Jamaica', 5354: 'Mexico', 5356: 'Nicaragua', 5358: 'Panama',\n",
    "                 5364: 'Paraguay', 5366: 'Peru', 5372: 'El Salvador',\n",
    "                 5374: 'Trinidad og Tobago', 5376: 'Uruguay', 5390: 'USA',\n",
    "                 5392: 'Venezuela', 5395: 'Vestindiske Øer', 5397: 'Nordamerika uoplyst',\n",
    "                 5398: 'Syd- og Mellemamerika uoplyst', 5402: 'Yemen',\n",
    "                 5403: 'Forenede Arabiske Emirater', 5404: 'Afghanistan', 5406: 'Bahrain',\n",
    "                 5408: 'Bhutan', 5410: 'Bangladesh', 5412: 'Brunei', 5414: 'Myanmar',\n",
    "                 5416: 'Cambodja', 5418: 'Sri Lanka', 5422: 'Cypern', 5424: 'Taiwan',\n",
    "                 5432: 'Indien', 5434: 'Indonesien', 5435: 'Østtimor', 5436: 'Irak',\n",
    "                 5438: 'Iran', 5442: 'Israel', 5444: 'Japan', 5446: 'Jordan', 5448: 'Kina',\n",
    "                 5452: 'Kuwait', 5454: 'Laos', 5456: 'Libanon', 5457: 'Maldiverne',\n",
    "                 5458: 'Malaysia', 5459: 'Mongoliet', 5462: 'Oman', 5464: 'Nepal',\n",
    "                 5466: 'Nordkorea', 5468: 'Vietnam (1)', 5471: 'Asien uoplyst',\n",
    "                 5472: 'Pakistan', 5474: 'Filippinerne', 5478: 'Saudi-Arabien',\n",
    "                 5482: 'Singapore', 5484: 'Sydkorea', 5486: 'Syrien',\n",
    "                 5487: 'Mellemøsten uoplyst', 5488: 'Vietnam (2)', 5492: 'Thailand',\n",
    "                 5496: 'Qatar', 5499: 'Asien uoplyst', 5502: 'Australien', 5505: 'Tonga',\n",
    "                 5508: 'Fiji', 5514: 'New Zealand', 5522: 'Samoa', 5525: 'Djibouti',\n",
    "                 5526: 'Belize', 5534: 'Papua Ny Guinea', 5599: 'Øer i Stillehavet',\n",
    "                 5607: 'Estland', 5609: 'Letland', 5611: 'Litauen',\n",
    "                 5621: 'Sao Tome og Principe', 5623: 'Salomonøerne',\n",
    "                 5625: 'Skt. Kitts og Nevis', 5700: 'Rusland', 5704: 'Ukraine',\n",
    "                 5706: 'Hviderusland', 5708: 'Armenien', 5710: 'Aserbajdsjan',\n",
    "                 5712: 'Moldova', 5714: 'Usbekistan', 5716: 'Kasakhstan',\n",
    "                 5718: 'Turkmenistan', 5720: 'Kirgisistan', 5722: 'Tadsjikistan',\n",
    "                 5724: 'Georgien', 5750: 'Kroatien', 5752: 'Slovenien',\n",
    "                 5754: 'Bosnien-Hercegovina', 5756: 'Makedonien', 5757: 'Serbien',\n",
    "                 5758: 'Jugoslavien, Forbundsrepublikken', 5759: 'Montenegro',\n",
    "                 5761: 'Kosovo', 5776: 'Tjekkiet', 5778: 'Slovakiet', 5779: 'Cookøerne',\n",
    "                 5800: 'Land ukendt (2)', 5901: 'Færøerne uoplyst', 5902: 'Færøerne',\n",
    "                 5999: 'Land ukendt (1)'}\n",
    "#opgave 1,2\n",
    "neighb = {1: 'Indre By', 2: 'Østerbro', 3: 'Nørrebro', 4: 'Vesterbro/Kgs. Enghave',\n",
    "          5: 'Valby', 6: 'Vanløse', 7: 'Brønshøj-Husum', 8: 'Bispebjerg', 9: 'Amager Øst',\n",
    "          10: 'Amager Vest', 99: 'Udenfor'}\n",
    "filename = './befkbhalderstatkode.csv'\n",
    "dd = np.genfromtxt(\n",
    "    filename, delimiter=',', dtype=np.uint, skip_header=1)"
   ]
  },
  {
   "cell_type": "markdown",
   "metadata": {},
   "source": [
    "3. Find out how many people lived in each of the 11 areas in 2015\n",
    "4. Make a bar plot to show the size of each city area from the smallest to the largest"
   ]
  },
  {
   "cell_type": "code",
   "execution_count": 104,
   "metadata": {
    "scrolled": true
   },
   "outputs": [
    {
     "name": "stdout",
     "output_type": "stream",
     "text": [
      "Udenfor 3872\n",
      "Vanløse 39537\n",
      "Brønshøj-Husum 43908\n",
      "Valby 51727\n",
      "Indre By 51937\n",
      "Bispebjerg 53604\n",
      "Amager Øst 55205\n",
      "Vesterbro/Kgs. Enghave 61623\n",
      "Amager Vest 64967\n",
      "Østerbro 75113\n",
      "Nørrebro 78802\n"
     ]
    },
    {
     "data": {
      "image/png": "[encoded data removed]",
      "text/plain": [
       "<Figure size 432x288 with 1 Axes>"
      ]
     },
     "metadata": {
      "needs_background": "light"
     },
     "output_type": "display_data"
    }
   ],
   "source": [
    "def city_pop_count():\n",
    "    city_dict = {}\n",
    "    for key in neighb.keys():\n",
    "        all_people_in_given_n = dd[(dd[:, 1] == key) & (dd[:, 0] == 2015)]\n",
    "        sum_of_people = all_people_in_given_n[:, 4].sum()\n",
    "        city_dict[neighb[key]] = sum_of_people\n",
    "    # key = tjekker værdien og smidder laveste bagerst\n",
    "    # https://www.programiz.com/python-programming/methods/list/sort\n",
    "    sorted_n = sorted(city_dict.items(),key=lambda value:value[1])\n",
    "    for item in sorted_n:\n",
    "        print(item[0],item[1])\n",
    "    x_values = []\n",
    "    y_values = []\n",
    "    for item in sorted_n:\n",
    "        x_values.append(item[0])\n",
    "        y_values.append(item[1])\n",
    "    plt.bar(x_values, y_values)\n",
    "    plt.xticks(rotation=45, horizontalalignment='right')\n",
    "city_pop_count()\n",
    "\n"
   ]
  },
  {
   "cell_type": "markdown",
   "metadata": {},
   "source": [
    "5. Create a boolean mask to find out how many people above 65 years lived in Copenhagen in 2015\n"
   ]
  },
  {
   "cell_type": "code",
   "execution_count": 45,
   "metadata": {},
   "outputs": [
    {
     "name": "stdout",
     "output_type": "stream",
     "text": [
      "55750\n"
     ]
    }
   ],
   "source": [
    "def above_65(): \n",
    "    filtered = dd[(dd[:,2]>65)& (dd[:,0]== 2015)]\n",
    "    res = filtered[:,4].sum()\n",
    "    print(res)\n",
    "above_65()"
   ]
  },
  {
   "cell_type": "markdown",
   "metadata": {},
   "source": [
    "6. How many of those were from the other nordic countries (not dk)"
   ]
  },
  {
   "cell_type": "code",
   "execution_count": 70,
   "metadata": {},
   "outputs": [
    {
     "name": "stdout",
     "output_type": "stream",
     "text": [
      "577\n"
     ]
    }
   ],
   "source": [
    "finland_mask = dd[:, 3] == 5104\n",
    "sweden_mask = dd[:, 3] == 5120\n",
    "norway_mask = dd[:, 3] == 5110\n",
    "iceland_mask = dd[:,3] == 5105\n",
    "\n",
    "def above_65_nordic_except_danish(): \n",
    "    nordic_filter = dd[(dd[:,2]>65)&(dd[:,0]== 2015)&(finland_mask|sweden_mask|norway_mask|iceland_mask)]\n",
    "    res = nordic_filter[:,4].sum()\n",
    "    print(res)\n",
    "above_65_nordic_except_danish()"
   ]
  },
  {
   "cell_type": "markdown",
   "metadata": {},
   "source": [
    "7. Make a line plot showing the changes of number of people in vesterbro and østerbro from 1992 to 2015"
   ]
  }
 ],
 "metadata": {
  "kernelspec": {
   "display_name": "Python 3",
   "language": "python",
   "name": "python3"
  },
  "language_info": {
   "codemirror_mode": {
    "name": "ipython",
    "version": 3
   },
   "file_extension": ".py",
   "mimetype": "text/x-python",
   "name": "python",
   "nbconvert_exporter": "python",
   "pygments_lexer": "ipython3",
   "version": "3.7.6"
  }
 },
 "nbformat": 4,
 "nbformat_minor": 4
}
